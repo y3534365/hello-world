{
 "cells": [
  {
   "cell_type": "markdown",
   "metadata": {
    "toc": true
   },
   "source": [
    "<h1>Table of Contents<span class=\"tocSkip\"></span></h1>\n",
    "<div class=\"toc\"><ul class=\"toc-item\"><li><span><a href=\"#使用前的一些基本说明/一级标题\" data-toc-modified-id=\"使用前的一些基本说明/一级标题-1\"><span class=\"toc-item-num\">1&nbsp;&nbsp;</span>使用前的一些基本说明/一级标题</a></span><ul class=\"toc-item\"><li><span><a href=\"#Jupyter-notebook使用/快捷键\" data-toc-modified-id=\"Jupyter-notebook使用/快捷键-1.1\"><span class=\"toc-item-num\">1.1&nbsp;&nbsp;</span>Jupyter notebook使用/快捷键</a></span></li><li><span><a href=\"#Markdown的基本语法\" data-toc-modified-id=\"Markdown的基本语法-1.2\"><span class=\"toc-item-num\">1.2&nbsp;&nbsp;</span>Markdown的基本语法</a></span></li><li><span><a href=\"#二级标题\" data-toc-modified-id=\"二级标题-1.3\"><span class=\"toc-item-num\">1.3&nbsp;&nbsp;</span>二级标题</a></span><ul class=\"toc-item\"><li><span><a href=\"#三级标题\" data-toc-modified-id=\"三级标题-1.3.1\"><span class=\"toc-item-num\">1.3.1&nbsp;&nbsp;</span>三级标题</a></span></li><li><span><a href=\"#四级标题\" data-toc-modified-id=\"四级标题-1.3.2\"><span class=\"toc-item-num\">1.3.2&nbsp;&nbsp;</span>四级标题</a></span><ul class=\"toc-item\"><li><span><a href=\"#五级标题\" data-toc-modified-id=\"五级标题-1.3.2.1\"><span class=\"toc-item-num\">1.3.2.1&nbsp;&nbsp;</span>五级标题</a></span></li></ul></li></ul></li></ul></li><li><span><a href=\"#python的基本语法\" data-toc-modified-id=\"python的基本语法-2\"><span class=\"toc-item-num\">2&nbsp;&nbsp;</span>python的基本语法</a></span><ul class=\"toc-item\"><li><span><a href=\"#python的print()功能\" data-toc-modified-id=\"python的print()功能-2.1\"><span class=\"toc-item-num\">2.1&nbsp;&nbsp;</span>python的print()功能</a></span><ul class=\"toc-item\"><li><span><a href=\"#打印单个值,-打印空行\" data-toc-modified-id=\"打印单个值,-打印空行-2.1.1\"><span class=\"toc-item-num\">2.1.1&nbsp;&nbsp;</span>打印单个值, 打印空行</a></span></li><li><span><a href=\"#打印一个值,-打印多个值,-sep设置中间分隔符,-默认为空格,-end设置以什么结尾默认换行\" data-toc-modified-id=\"打印一个值,-打印多个值,-sep设置中间分隔符,-默认为空格,-end设置以什么结尾默认换行-2.1.2\"><span class=\"toc-item-num\">2.1.2&nbsp;&nbsp;</span>打印一个值, 打印多个值, sep设置中间分隔符, 默认为空格, end设置以什么结尾默认换行</a></span></li><li><span><a href=\"#小练习\" data-toc-modified-id=\"小练习-2.1.3\"><span class=\"toc-item-num\">2.1.3&nbsp;&nbsp;</span>小练习</a></span></li></ul></li><li><span><a href=\"#python编码\" data-toc-modified-id=\"python编码-2.2\"><span class=\"toc-item-num\">2.2&nbsp;&nbsp;</span>python编码</a></span></li><li><span><a href=\"#内部保留关键字\" data-toc-modified-id=\"内部保留关键字-2.3\"><span class=\"toc-item-num\">2.3&nbsp;&nbsp;</span>内部保留关键字</a></span></li><li><span><a href=\"#python的注释功能\" data-toc-modified-id=\"python的注释功能-2.4\"><span class=\"toc-item-num\">2.4&nbsp;&nbsp;</span>python的注释功能</a></span></li><li><span><a href=\"#Python的代码块\" data-toc-modified-id=\"Python的代码块-2.5\"><span class=\"toc-item-num\">2.5&nbsp;&nbsp;</span>Python的代码块</a></span></li><li><span><a href=\"#输入和输出\" data-toc-modified-id=\"输入和输出-2.6\"><span class=\"toc-item-num\">2.6&nbsp;&nbsp;</span>输入和输出</a></span><ul class=\"toc-item\"><li><span><a href=\"#让用户输入一个值,-用户输入一个字符串,-并存放到一个变量里面\" data-toc-modified-id=\"让用户输入一个值,-用户输入一个字符串,-并存放到一个变量里面-2.6.1\"><span class=\"toc-item-num\">2.6.1&nbsp;&nbsp;</span>让用户输入一个值, 用户输入一个字符串, 并存放到一个变量里面</a></span></li><li><span><a href=\"#练习题\" data-toc-modified-id=\"练习题-2.6.2\"><span class=\"toc-item-num\">2.6.2&nbsp;&nbsp;</span>练习题</a></span></li></ul></li></ul></li><li><span><a href=\"#变量\" data-toc-modified-id=\"变量-3\"><span class=\"toc-item-num\">3&nbsp;&nbsp;</span>变量</a></span><ul class=\"toc-item\"><li><ul class=\"toc-item\"><li><span><a href=\"#变量的赋值\" data-toc-modified-id=\"变量的赋值-3.0.1\"><span class=\"toc-item-num\">3.0.1&nbsp;&nbsp;</span>变量的赋值</a></span></li><li><span><a href=\"#同时为多个变量赋值\" data-toc-modified-id=\"同时为多个变量赋值-3.0.2\"><span class=\"toc-item-num\">3.0.2&nbsp;&nbsp;</span>同时为多个变量赋值</a></span></li><li><span><a href=\"#变量在内存中存在的方式\" data-toc-modified-id=\"变量在内存中存在的方式-3.0.3\"><span class=\"toc-item-num\">3.0.3&nbsp;&nbsp;</span>变量在内存中存在的方式</a></span></li><li><span><a href=\"#变量的交换\" data-toc-modified-id=\"变量的交换-3.0.4\"><span class=\"toc-item-num\">3.0.4&nbsp;&nbsp;</span>变量的交换</a></span></li></ul></li></ul></li></ul></div>"
   ]
  },
  {
   "cell_type": "code",
   "execution_count": 45,
   "metadata": {
    "collapsed": true
   },
   "outputs": [],
   "source": [
    "import re\n",
    "import os\n",
    "import chardet\n",
    "import numpy as np\n",
    "import requests"
   ]
  },
  {
   "cell_type": "markdown",
   "metadata": {},
   "source": [
    "# 使用前的一些基本说明/一级标题"
   ]
  },
  {
   "cell_type": "markdown",
   "metadata": {},
   "source": [
    "## Jupyter notebook使用/快捷键"
   ]
  },
  {
   "cell_type": "markdown",
   "metadata": {},
   "source": [
    "首先, notebook快捷键主要借鉴Vim编辑器快捷键, 比较复杂, 记忆量很大, 和Vim一样分为两种模式:编辑合适和命令模式\n",
    "模式:\n",
    "1. 编辑模式: 编辑模式下, 可以输入内容\n",
    "2. 命令模式: 命令模式下,各种按键会作为各种功能的快捷键, 所以如果你按键之后出现莫名其妙的反应, 检查自己是不是处于命令模式. \n",
    "\n",
    "在学习编程之前, 咱们对自己将要使用的工具还是要有一定程度的了解, 对于提升生产力很有帮助!"
   ]
  },
  {
   "cell_type": "markdown",
   "metadata": {},
   "source": [
    "File/Edit/View/Insert/Cell/Kernel/Navigate/Help 功能讲解"
   ]
  },
  {
   "cell_type": "markdown",
   "metadata": {},
   "source": []
  },
  {
   "cell_type": "markdown",
   "metadata": {},
   "source": [
    "1. 运行代码 3个快捷键 不要求都了解, 找一两个习惯的使用就可以\n",
    "2. 插入快捷键2个\n",
    "3. 剪切快捷键一个\n",
    "4. 删除快捷键不需要\n",
    "5. 粘贴快捷键 v\n",
    "6. 切换到Markdown格式, 切换到Code格式"
   ]
  },
  {
   "cell_type": "markdown",
   "metadata": {},
   "source": [
    "## Markdown的基本语法"
   ]
  },
  {
   "cell_type": "markdown",
   "metadata": {},
   "source": [
    "## 二级标题"
   ]
  },
  {
   "cell_type": "markdown",
   "metadata": {},
   "source": [
    "### 三级标题"
   ]
  },
  {
   "cell_type": "markdown",
   "metadata": {},
   "source": [
    "### 四级标题"
   ]
  },
  {
   "cell_type": "markdown",
   "metadata": {},
   "source": [
    "#### 五级标题"
   ]
  },
  {
   "cell_type": "markdown",
   "metadata": {},
   "source": [
    "**加粗**"
   ]
  },
  {
   "cell_type": "markdown",
   "metadata": {},
   "source": [
    "*斜体*"
   ]
  },
  {
   "cell_type": "markdown",
   "metadata": {},
   "source": [
    "1. 列表\n",
    "2. 再来一个\n",
    "3. 就是这样\n",
    " - 无序列表\n",
    " - 第二个\n",
    " - one more time"
   ]
  },
  {
   "cell_type": "code",
   "execution_count": null,
   "metadata": {
    "collapsed": true
   },
   "outputs": [],
   "source": [
    "class Person(object):\n",
    "        def __init__(self, name, gender, **kw):\n",
    "                    self.name = name\n",
    "                        self.gender = gender\n",
    "                            for k,v in kw.items():\n",
    "                                        setattr(self, k, v) "
   ]
  },
  {
   "cell_type": "markdown",
   "metadata": {
    "collapsed": true
   },
   "source": []
  },
  {
   "cell_type": "code",
   "execution_count": 6,
   "metadata": {
    "collapsed": true
   },
   "outputs": [],
   "source": [
    "a = 1"
   ]
  },
  {
   "cell_type": "code",
   "execution_count": 1,
   "metadata": {},
   "outputs": [
    {
     "name": "stdout",
     "output_type": "stream",
     "text": [
      "The Zen of Python, by Tim Peters\n",
      "\n",
      "Beautiful is better than ugly.\n",
      "Explicit is better than implicit.\n",
      "Simple is better than complex.\n",
      "Complex is better than complicated.\n",
      "Flat is better than nested.\n",
      "Sparse is better than dense.\n",
      "Readability counts.\n",
      "Special cases aren't special enough to break the rules.\n",
      "Although practicality beats purity.\n",
      "Errors should never pass silently.\n",
      "Unless explicitly silenced.\n",
      "In the face of ambiguity, refuse the temptation to guess.\n",
      "There should be one-- and preferably only one --obvious way to do it.\n",
      "Although that way may not be obvious at first unless you're Dutch.\n",
      "Now is better than never.\n",
      "Although never is often better than *right* now.\n",
      "If the implementation is hard to explain, it's a bad idea.\n",
      "If the implementation is easy to explain, it may be a good idea.\n",
      "Namespaces are one honking great idea -- let's do more of those!\n"
     ]
    }
   ],
   "source": [
    "import this"
   ]
  },
  {
   "cell_type": "code",
   "execution_count": null,
   "metadata": {
    "collapsed": true
   },
   "outputs": [],
   "source": []
  },
  {
   "cell_type": "code",
   "execution_count": null,
   "metadata": {
    "collapsed": true
   },
   "outputs": [],
   "source": []
  },
  {
   "cell_type": "code",
   "execution_count": null,
   "metadata": {
    "collapsed": true
   },
   "outputs": [],
   "source": []
  },
  {
   "cell_type": "markdown",
   "metadata": {},
   "source": [
    "# python的基本语法"
   ]
  },
  {
   "cell_type": "markdown",
   "metadata": {},
   "source": [
    "Python的语法比较简单，采用缩进方式，写出来的代码就像下面的样子：\n",
    "```python\n",
    "# 打印一个数字的绝对值\n",
    "a = 100 \n",
    "if a >=0:\n",
    "    print(a)\n",
    "else:\n",
    "    print(-a)\n",
    "```"
   ]
  },
  {
   "cell_type": "code",
   "execution_count": 5,
   "metadata": {
    "collapsed": true
   },
   "outputs": [],
   "source": [
    "def abs_y(arg):\n",
    "    if arg >=0:\n",
    "        print(arg)\n",
    "    else:\n",
    "        print(-arg)"
   ]
  },
  {
   "cell_type": "code",
   "execution_count": 6,
   "metadata": {},
   "outputs": [
    {
     "name": "stdout",
     "output_type": "stream",
     "text": [
      "40\n"
     ]
    }
   ],
   "source": [
    "abs_y(-40)"
   ]
  },
  {
   "cell_type": "markdown",
   "metadata": {},
   "source": [
    "Python 利用缩进来划分代码块\n",
    "\n",
    "这种语法形式的优点是看起来整洁,美观,没有大量的括号,更便于阅读,看起来更像人类的自然语言.\n",
    "\n",
    "可以强迫你写出格式化的代码,通常我们使用Tab键或者四个空格来完成缩进\n",
    "\n",
    "坏处是复制粘贴之后,代码的缩进会不一样,这时候必须手动重新调整."
   ]
  },
  {
   "cell_type": "markdown",
   "metadata": {},
   "source": [
    "## python的print()功能"
   ]
  },
  {
   "cell_type": "markdown",
   "metadata": {},
   "source": [
    "print是打印的意思,在这里指的是向屏幕上输出指定的文字\n",
    "\n",
    "print 可以打印单个值,也可以打印多个值,还可以设置以什么字符作为多个值之间的分隔.\n"
   ]
  },
  {
   "cell_type": "markdown",
   "metadata": {},
   "source": [
    "### 打印单个值, 打印空行"
   ]
  },
  {
   "cell_type": "markdown",
   "metadata": {},
   "source": [
    "串讲: 查看帮助文档"
   ]
  },
  {
   "cell_type": "code",
   "execution_count": 7,
   "metadata": {
    "collapsed": true
   },
   "outputs": [],
   "source": [
    "?print()"
   ]
  },
  {
   "cell_type": "code",
   "execution_count": 2,
   "metadata": {},
   "outputs": [
    {
     "name": "stdout",
     "output_type": "stream",
     "text": [
      "something\n",
      "something\n",
      "something\n",
      "something\n"
     ]
    }
   ],
   "source": [
    "print(\"something\")\n",
    "print(\"something\")\n",
    "print(\"something\")\n",
    "print(\"something\")"
   ]
  },
  {
   "cell_type": "code",
   "execution_count": 1,
   "metadata": {},
   "outputs": [
    {
     "name": "stdout",
     "output_type": "stream",
     "text": [
      "--------------------------------------------------\n"
     ]
    }
   ],
   "source": [
    "print(\"-\"*50)"
   ]
  },
  {
   "cell_type": "markdown",
   "metadata": {},
   "source": [
    "### 打印一个值, 打印多个值, sep设置中间分隔符, 默认为空格, end设置以什么结尾默认换行"
   ]
  },
  {
   "cell_type": "code",
   "execution_count": 4,
   "metadata": {},
   "outputs": [
    {
     "name": "stdout",
     "output_type": "stream",
     "text": [
      "iron Man===>Spideman===>Hulk......Captain....Superman\n",
      "Batman\n"
     ]
    }
   ],
   "source": [
    "print('iron Man', 'Spideman','Hulk',sep='===>',end='......')\n",
    "print('Captain',end='....')\n",
    "print('Superman')\n",
    "print('Batman')"
   ]
  },
  {
   "cell_type": "code",
   "execution_count": 8,
   "metadata": {},
   "outputs": [
    {
     "name": "stdout",
     "output_type": "stream",
     "text": [
      "print(value, ..., sep=' ', end='\\n', file=sys.stdout, flush=False)\n",
      "\n",
      "Prints the values to a stream, or to sys.stdout by default.\n",
      "Optional keyword arguments:\n",
      "file:  a file-like object (stream); defaults to the current sys.stdout.\n",
      "sep:   string inserted between values, default a space.\n",
      "end:   string appended after the last value, default a newline.\n",
      "flush: whether to forcibly flush the stream.\n"
     ]
    }
   ],
   "source": [
    "print(print.__doc__)"
   ]
  },
  {
   "cell_type": "code",
   "execution_count": 22,
   "metadata": {},
   "outputs": [
    {
     "name": "stdout",
     "output_type": "stream",
     "text": [
      "300\n"
     ]
    }
   ],
   "source": [
    "print(100+200)"
   ]
  },
  {
   "cell_type": "code",
   "execution_count": 16,
   "metadata": {},
   "outputs": [
    {
     "name": "stdout",
     "output_type": "stream",
     "text": [
      "1234567890-------\n",
      "1234567890\n",
      "-------\n"
     ]
    }
   ],
   "source": [
    "print(\"1234567890-------\") # 会在一行显示\n",
    "print(\"1234567890\\n-------\")"
   ]
  },
  {
   "cell_type": "markdown",
   "metadata": {},
   "source": [
    "### 小练习\n",
    "\n",
    "编写代码完成以下名片的显示\n",
    "```python\n",
    " ==================================\n",
    "    姓名: dongGe    \n",
    "    QQ:xxxxxxx\n",
    "    手机号:131xxxxxx\n",
    "    公司地址:北京市xxxx\n",
    "    ==================================\n",
    "    ```"
   ]
  },
  {
   "cell_type": "code",
   "execution_count": null,
   "metadata": {},
   "outputs": [],
   "source": []
  },
  {
   "cell_type": "code",
   "execution_count": 9,
   "metadata": {
    "scrolled": true
   },
   "outputs": [
    {
     "name": "stdout",
     "output_type": "stream",
     "text": [
      "╔═╤═╤═╤═╤═╤═╤═╤═╤═╤═╤═╤═╤═╤═╤═╤═╤═╤═╤═╤═╗\n",
      "║　│　│　│　│　│　│　│　│　│　│　│　│　│　│　│　│　│　│　│  ║\n",
      "║　│　│　│　│　│　│　│　│　│　│　│　│　│　│　│　│　│　│　│　║\n",
      "║　│春│滟│江│空│江│江│人│不│白│谁│可│玉│此│鸿│昨│江│斜│不│　║\n",
      "║　│江│滟│流│里│天│畔│生│知│云│家│怜│户│时│雁│夜│水│月│知│　║\n",
      "║　│潮│随│宛│流│一│何│代│江│一│今│楼│帘│相│长│闲│流│沉│乘│　║\n",
      "║　│水│波│转│霜│色│人│代│月│片│夜│上│中│望│飞│潭│春│沉│月│　║\n",
      "║　│连│千│绕│不│无│初│无│待│去│扁│月│卷│不│光│梦│去│藏│几│　║\n",
      "║春│海│万│芳│觉│纤│见│穷│何│悠│舟│徘│不│相│不│落│欲│海│人│　║\n",
      "║江│平│里│甸│飞│尘│月│已│人│悠│子│徊│去│闻│度│花│尽│雾│归│　║\n",
      "║花│，│，│，│，│，│，│，│，│，│，│，│，│，│，│，│，│，│，│　║\n",
      "║月│海│何│月│汀│皎│江│江│但│青│何│应│捣│愿│鱼│可│江│碣│落│　║\n",
      "║夜│上│处│照│上│皎│月│月│见│枫│处│照│衣│逐│龙│怜│潭│石│月│　║\n",
      "║　│明│春│花│白│空│何│年│长│浦│相│离│砧│月│潜│春│落│潇│摇│　║\n",
      "║　│月│江│林│沙│中│年│年│江│上│思│人│上│华│跃│半│月│湘│情│　║\n",
      "║　│共│无│皆│看│孤│初│望│送│不│明│妆│拂│流│水│不│复│无│满│　║\n",
      "║　│潮│月│似│不│月│照│相│流│胜│月│镜│还│照│成│还│西│限│江│　║\n",
      "║　│生│明│霰│见│轮│人│似│水│愁│楼│台│来│君│文│家│斜│路│树│　║\n",
      "║　│。│。│。│。│。│？│。│。│。│？│。│。│。│。│。│。│。│。│　║\n",
      "║　│　│　│　│　│　│　│　│　│　│　│　│　│　│　│　│　│　│　│　║\n",
      "║　│　│　│　│　│　│　│　│　│　│　│　│　│　│　│　│　│　│　│　║\n",
      "╚═╧═╧═╧═╧═╧═╧═╧═╧═╧═╧═╧═╧═╧═╧═╧═╧═╧═╧═╧═╝\n"
     ]
    }
   ],
   "source": [
    "print('╔═╤═╤═╤═╤═╤═╤═╤═╤═╤═╤═╤═╤═╤═╤═╤═╤═╤═╤═╤═╗')\n",
    "print('║　│　│　│　│　│　│　│　│　│　│　│　│　│　│　│　│　│　│　│  ║')\n",
    "print('║　│　│　│　│　│　│　│　│　│　│　│　│　│　│　│　│　│　│　│　║')\n",
    "print('║　│春│滟│江│空│江│江│人│不│白│谁│可│玉│此│鸿│昨│江│斜│不│　║')\n",
    "print('║　│江│滟│流│里│天│畔│生│知│云│家│怜│户│时│雁│夜│水│月│知│　║')\n",
    "print('║　│潮│随│宛│流│一│何│代│江│一│今│楼│帘│相│长│闲│流│沉│乘│　║')\n",
    "print('║　│水│波│转│霜│色│人│代│月│片│夜│上│中│望│飞│潭│春│沉│月│　║')\n",
    "print('║　│连│千│绕│不│无│初│无│待│去│扁│月│卷│不│光│梦│去│藏│几│　║')\n",
    "print('║春│海│万│芳│觉│纤│见│穷│何│悠│舟│徘│不│相│不│落│欲│海│人│　║')\n",
    "print('║江│平│里│甸│飞│尘│月│已│人│悠│子│徊│去│闻│度│花│尽│雾│归│　║')\n",
    "print('║花│，│，│，│，│，│，│，│，│，│，│，│，│，│，│，│，│，│，│　║')\n",
    "print('║月│海│何│月│汀│皎│江│江│但│青│何│应│捣│愿│鱼│可│江│碣│落│　║')\n",
    "print('║夜│上│处│照│上│皎│月│月│见│枫│处│照│衣│逐│龙│怜│潭│石│月│　║')\n",
    "print('║　│明│春│花│白│空│何│年│长│浦│相│离│砧│月│潜│春│落│潇│摇│　║')\n",
    "print('║　│月│江│林│沙│中│年│年│江│上│思│人│上│华│跃│半│月│湘│情│　║')\n",
    "print('║　│共│无│皆│看│孤│初│望│送│不│明│妆│拂│流│水│不│复│无│满│　║')\n",
    "print('║　│潮│月│似│不│月│照│相│流│胜│月│镜│还│照│成│还│西│限│江│　║')\n",
    "print('║　│生│明│霰│见│轮│人│似│水│愁│楼│台│来│君│文│家│斜│路│树│　║')\n",
    "print('║　│。│。│。│。│。│？│。│。│。│？│。│。│。│。│。│。│。│。│　║')\n",
    "print('║　│　│　│　│　│　│　│　│　│　│　│　│　│　│　│　│　│　│　│　║')\n",
    "print('║　│　│　│　│　│　│　│　│　│　│　│　│　│　│　│　│　│　│　│　║')\n",
    "print('╚═╧═╧═╧═╧═╧═╧═╧═╧═╧═╧═╧═╧═╧═╧═╧═╧═╧═╧═╧═╝')"
   ]
  },
  {
   "cell_type": "code",
   "execution_count": 5,
   "metadata": {},
   "outputs": [
    {
     "name": "stdout",
     "output_type": "stream",
     "text": [
      "                            _ooOoo_                     \n",
      "                           o8888888o                    \n",
      "                           88  .  88                    \n",
      "                           (| -_- |)                    \n",
      "                            O\\ = /O                    \n",
      "                        ____/`---'\\____                \n",
      "                      .   ' \\| |// `.                  \n",
      "                       / \\||| : |||// \\               \n",
      "                     / _||||| -:- |||||- \\             \n",
      "                       | | \\\\\\ - /// | |             \n",
      "                     | \\_| ''\\---/'' | |              \n",
      "                      \\ .-\\__ `-` ___/-. /            \n",
      "                   ___`. .' /--.--\\ `. . __            \n",
      "                . '< `.___\\_<|>_/___.' >'.         \n",
      "               | | : `- \\`.;`\\ _ /`;.`/ - ` : | |     \n",
      "                 \\ \\ `-. \\_ __\\ /__ _/ .-` / /      \n",
      "         ======`-.____`-.___\\_____/___.-`____.-'====== \n",
      "                            `=---='  \n",
      "                                                        \n",
      "         .............................................  \n",
      "                  佛祖镇楼             BUG辟邪          \n",
      "          Zen of python:                                \n",
      "                  Beautiful is better than ugly.；      \n",
      "                  Explicit is better than implicit.     \n",
      "                  Simple is better than complex.        \n",
      "                  Complex is better than complicated.   \n",
      "                  Flat is better than nested.           \n",
      "                  Sparse is better than dense.          \n",
      "                  Readability counts.                   \n",
      "                  Now is better than never.             \n"
     ]
    }
   ],
   "source": [
    "print(\"                            _ooOoo_                     \")\n",
    "print(\"                           o8888888o                    \")\n",
    "print(\"                           88  .  88                    \")\n",
    "print(\"                           (| -_- |)                    \")\n",
    "print(\"                            O\\\\ = /O                    \")\n",
    "print(\"                        ____/`---'\\\\____                \")\n",
    "print(\"                      .   ' \\\\| |// `.                  \")\n",
    "print(\"                       / \\\\||| : |||// \\\\               \")\n",
    "print(\"                     / _||||| -:- |||||- \\\\             \")\n",
    "print(\"                       | | \\\\\\\\\\\\ - /// | |             \")\n",
    "print(\"                     | \\\\_| ''\\\\---/'' | |              \")\n",
    "print(\"                      \\\\ .-\\\\__ `-` ___/-. /            \")\n",
    "print(\"                   ___`. .' /--.--\\\\ `. . __            \")\n",
    "print(\"                .\"\" '< `.___\\\\_<|>_/___.' >'\"\".         \")\n",
    "print(\"               | | : `- \\\\`.;`\\\\ _ /`;.`/ - ` : | |     \")\n",
    "print(\"                 \\\\ \\\\ `-. \\\\_ __\\\\ /__ _/ .-` / /      \")\n",
    "print(\"         ======`-.____`-.___\\\\_____/___.-`____.-'====== \")\n",
    "print(\"                            `=---='  \")\n",
    "print(\"                                                        \")\n",
    "print(\"         .............................................  \")\n",
    "print(\"                  佛祖镇楼             BUG辟邪          \")\n",
    "print(\"          Zen of python:                                \")\n",
    "print(\"                  Beautiful is better than ugly.；      \")\n",
    "print(\"                  Explicit is better than implicit.     \")\n",
    "print(\"                  Simple is better than complex.        \")\n",
    "print(\"                  Complex is better than complicated.   \")\n",
    "print(\"                  Flat is better than nested.           \")\n",
    "print(\"                  Sparse is better than dense.          \")\n",
    "print(\"                  Readability counts.                   \")\n",
    "print(\"                  Now is better than never.             \")"
   ]
  },
  {
   "cell_type": "code",
   "execution_count": null,
   "metadata": {
    "collapsed": true
   },
   "outputs": [],
   "source": []
  },
  {
   "cell_type": "markdown",
   "metadata": {},
   "source": [
    "## python编码"
   ]
  },
  {
   "cell_type": "markdown",
   "metadata": {
    "collapsed": true
   },
   "source": [
    "- 编码问题\n",
    "\n",
    " \\- ASCII，Unicode 和 UTF-8编码：http://www.ruanyifeng.com/blog/2007/10/ascii_unicode_and_utf-8.html\n",
    "\n",
    " \\- decode 代表解码,  encode代表编码 \n",
    "\n",
    " \\- 字符串在Python内部的表示是unicode编码，因此，在做编码转换时，通常需要以unicode作为中间编码，即先将其他编码的字符串解码（decode）成unicode，再从unicode编码（encode）成另一种编码。 \n",
    " \n",
    " \\- decode是将其他编码的字符串转换成unicode编码，如str1.decode('gb2312')，表示将gb2312编码的字符串str1转换成unicode编码。 \n",
    " \n",
    " \\- encode是将unicode编码转换成其他编码的字符串，如str2.encode('gb2312')，表示将unicode编码的字符串str2转换成gb2312编码。 \n",
    " \n",
    " \\- 因此，转码的时候一定要先搞明白，字符串str是什么编码，先decode成unicode，然后再encode成其他编码。"
   ]
  },
  {
   "cell_type": "code",
   "execution_count": 1,
   "metadata": {
    "collapsed": true
   },
   "outputs": [],
   "source": [
    "a = 'adsfdsf'"
   ]
  },
  {
   "cell_type": "code",
   "execution_count": 2,
   "metadata": {
    "collapsed": true
   },
   "outputs": [],
   "source": [
    "import sys"
   ]
  },
  {
   "cell_type": "code",
   "execution_count": 4,
   "metadata": {
    "collapsed": true
   },
   "outputs": [],
   "source": [
    "b = a.encode('gb2312')"
   ]
  },
  {
   "cell_type": "code",
   "execution_count": 5,
   "metadata": {},
   "outputs": [
    {
     "data": {
      "text/plain": [
       "'adsfdsf'"
      ]
     },
     "execution_count": 5,
     "metadata": {},
     "output_type": "execute_result"
    }
   ],
   "source": [
    "b.decode('gb2312')"
   ]
  },
  {
   "cell_type": "code",
   "execution_count": 10,
   "metadata": {},
   "outputs": [
    {
     "data": {
      "text/plain": [
       "b'\\xd6\\xd0\\xb9\\xfa\\xc4\\xe3\\xba\\xc3'"
      ]
     },
     "execution_count": 10,
     "metadata": {},
     "output_type": "execute_result"
    }
   ],
   "source": [
    "'中国你好'.encode('gbk')"
   ]
  },
  {
   "cell_type": "code",
   "execution_count": 11,
   "metadata": {},
   "outputs": [
    {
     "data": {
      "text/plain": [
       "b'\\xd6\\xd0\\xb9\\xfa\\xc4\\xe3\\xba\\xc3'"
      ]
     },
     "execution_count": 11,
     "metadata": {},
     "output_type": "execute_result"
    }
   ],
   "source": [
    "'中国你好'.encode('gb2312')"
   ]
  },
  {
   "cell_type": "code",
   "execution_count": 20,
   "metadata": {},
   "outputs": [
    {
     "data": {
      "text/plain": [
       "'中国你好'"
      ]
     },
     "execution_count": 20,
     "metadata": {},
     "output_type": "execute_result"
    }
   ],
   "source": [
    "b'\\xd6\\xd0\\xb9\\xfa\\xc4\\xe3\\xba\\xc3'.decode('gbk')"
   ]
  },
  {
   "cell_type": "code",
   "execution_count": 12,
   "metadata": {},
   "outputs": [
    {
     "data": {
      "text/plain": [
       "65"
      ]
     },
     "execution_count": 12,
     "metadata": {},
     "output_type": "execute_result"
    }
   ],
   "source": [
    "ord('A')"
   ]
  },
  {
   "cell_type": "code",
   "execution_count": 13,
   "metadata": {},
   "outputs": [
    {
     "data": {
      "text/plain": [
       "20013"
      ]
     },
     "execution_count": 13,
     "metadata": {},
     "output_type": "execute_result"
    }
   ],
   "source": [
    "ord('中')"
   ]
  },
  {
   "cell_type": "code",
   "execution_count": 14,
   "metadata": {},
   "outputs": [
    {
     "data": {
      "text/plain": [
       "'B'"
      ]
     },
     "execution_count": 14,
     "metadata": {},
     "output_type": "execute_result"
    }
   ],
   "source": [
    "chr(66)"
   ]
  },
  {
   "cell_type": "code",
   "execution_count": 15,
   "metadata": {},
   "outputs": [
    {
     "data": {
      "text/plain": [
       "'文'"
      ]
     },
     "execution_count": 15,
     "metadata": {},
     "output_type": "execute_result"
    }
   ],
   "source": [
    "chr(25991)"
   ]
  },
  {
   "cell_type": "markdown",
   "metadata": {},
   "source": [
    "## 内部保留关键字"
   ]
  },
  {
   "cell_type": "code",
   "execution_count": 29,
   "metadata": {},
   "outputs": [
    {
     "name": "stdout",
     "output_type": "stream",
     "text": [
      "['False', 'None', 'True', 'and', 'as', 'assert', 'break', 'class', 'continue', 'def', 'del', 'elif', 'else', 'except', 'finally', 'for', 'from', 'global', 'if', 'import', 'in', 'is', 'lambda', 'nonlocal', 'not', 'or', 'pass', 'raise', 'return', 'try', 'while', 'with', 'yield']\n"
     ]
    }
   ],
   "source": [
    "import keyword\n",
    "print(keyword.kwlist)"
   ]
  },
  {
   "cell_type": "code",
   "execution_count": 23,
   "metadata": {},
   "outputs": [
    {
     "ename": "SyntaxError",
     "evalue": "invalid syntax (<ipython-input-23-a3fd417c5b1e>, line 1)",
     "output_type": "error",
     "traceback": [
      "\u001b[1;36m  File \u001b[1;32m\"<ipython-input-23-a3fd417c5b1e>\"\u001b[1;36m, line \u001b[1;32m1\u001b[0m\n\u001b[1;33m    and = 1\u001b[0m\n\u001b[1;37m      ^\u001b[0m\n\u001b[1;31mSyntaxError\u001b[0m\u001b[1;31m:\u001b[0m invalid syntax\n"
     ]
    }
   ],
   "source": [
    "and = 1"
   ]
  },
  {
   "cell_type": "code",
   "execution_count": 24,
   "metadata": {},
   "outputs": [
    {
     "ename": "SyntaxError",
     "evalue": "invalid syntax (<ipython-input-24-fca67dd73332>, line 1)",
     "output_type": "error",
     "traceback": [
      "\u001b[1;36m  File \u001b[1;32m\"<ipython-input-24-fca67dd73332>\"\u001b[1;36m, line \u001b[1;32m1\u001b[0m\n\u001b[1;33m    with = 1\u001b[0m\n\u001b[1;37m         ^\u001b[0m\n\u001b[1;31mSyntaxError\u001b[0m\u001b[1;31m:\u001b[0m invalid syntax\n"
     ]
    }
   ],
   "source": [
    "with = 1"
   ]
  },
  {
   "cell_type": "code",
   "execution_count": 33,
   "metadata": {},
   "outputs": [
    {
     "data": {
      "text/plain": [
       "5"
      ]
     },
     "execution_count": 33,
     "metadata": {},
     "output_type": "execute_result"
    }
   ],
   "source": [
    "sum((2, 3))"
   ]
  },
  {
   "cell_type": "code",
   "execution_count": 34,
   "metadata": {
    "collapsed": true
   },
   "outputs": [],
   "source": [
    "sum = 1"
   ]
  },
  {
   "cell_type": "code",
   "execution_count": 35,
   "metadata": {},
   "outputs": [
    {
     "ename": "TypeError",
     "evalue": "'int' object is not callable",
     "output_type": "error",
     "traceback": [
      "\u001b[1;31m---------------------------------------------------------------------------\u001b[0m",
      "\u001b[1;31mTypeError\u001b[0m                                 Traceback (most recent call last)",
      "\u001b[1;32m<ipython-input-35-41cfac5bbb7e>\u001b[0m in \u001b[0;36m<module>\u001b[1;34m()\u001b[0m\n\u001b[1;32m----> 1\u001b[1;33m \u001b[0msum\u001b[0m\u001b[1;33m(\u001b[0m\u001b[1;33m(\u001b[0m\u001b[1;36m2\u001b[0m\u001b[1;33m,\u001b[0m \u001b[1;36m3\u001b[0m\u001b[1;33m)\u001b[0m\u001b[1;33m)\u001b[0m\u001b[1;33m\u001b[0m\u001b[0m\n\u001b[0m",
      "\u001b[1;31mTypeError\u001b[0m: 'int' object is not callable"
     ]
    }
   ],
   "source": [
    "sum((2, 3))"
   ]
  },
  {
   "cell_type": "code",
   "execution_count": 32,
   "metadata": {},
   "outputs": [
    {
     "data": {
      "text/plain": [
       "5"
      ]
     },
     "execution_count": 32,
     "metadata": {},
     "output_type": "execute_result"
    }
   ],
   "source": []
  },
  {
   "cell_type": "markdown",
   "metadata": {},
   "source": [
    "## python的注释功能"
   ]
  },
  {
   "cell_type": "code",
   "execution_count": 30,
   "metadata": {
    "collapsed": true
   },
   "outputs": [],
   "source": [
    "# 单行注释\n",
    "# 就像这样了\n",
    "# 以#开头，#右边的所有东西当做说明，而不是真正要执行的程序，起辅助说明作用"
   ]
  },
  {
   "cell_type": "code",
   "execution_count": 7,
   "metadata": {
    "collapsed": true
   },
   "outputs": [],
   "source": [
    "b = \"\"\"\n",
    "多行注释\n",
    "可以这样写\n",
    "其实就是字符串, 只是没有进行操作\n",
    "\"\"\"\n",
    "a = 1"
   ]
  },
  {
   "cell_type": "code",
   "execution_count": null,
   "metadata": {
    "collapsed": true
   },
   "outputs": [],
   "source": []
  },
  {
   "cell_type": "markdown",
   "metadata": {},
   "source": [
    "## Python的代码块"
   ]
  },
  {
   "cell_type": "markdown",
   "metadata": {
    "collapsed": true
   },
   "source": [
    "1. 最大特色是强制用空白符(white space)作为语句缩进\n",
    "\n",
    "2. 一个模块的界限，完全是由每行的首字符在这一行的位置来决定的 （而C语言是用一对花括号{}来明确的定出模块的边界的，与字符的位置毫无关系\n",
    "\n",
    "3. 通过强制程序员们缩进（包括if，for和函数定义等所有需要使用模块的地方）， Python确实使得程序更加清晰和美观。"
   ]
  },
  {
   "cell_type": "code",
   "execution_count": 41,
   "metadata": {},
   "outputs": [
    {
     "data": {
      "text/plain": [
       "'a真的等于1'"
      ]
     },
     "execution_count": 41,
     "metadata": {},
     "output_type": "execute_result"
    }
   ],
   "source": [
    "def some_func():\n",
    "    a = 1\n",
    "    if a == 1:\n",
    "        return 'a真的等于1'\n",
    "    else:\n",
    "        return '抱歉你错了'\n",
    "some_func()"
   ]
  },
  {
   "cell_type": "code",
   "execution_count": null,
   "metadata": {
    "collapsed": true
   },
   "outputs": [],
   "source": []
  },
  {
   "cell_type": "markdown",
   "metadata": {},
   "source": [
    "## 输入和输出"
   ]
  },
  {
   "cell_type": "code",
   "execution_count": 1,
   "metadata": {
    "collapsed": true
   },
   "outputs": [],
   "source": [
    "# input 获取一个用户输入的字符串, 查看文档, 有一个提示的参数"
   ]
  },
  {
   "cell_type": "code",
   "execution_count": 3,
   "metadata": {},
   "outputs": [
    {
     "name": "stdout",
     "output_type": "stream",
     "text": [
      "1\n"
     ]
    }
   ],
   "source": [
    "a = input()"
   ]
  },
  {
   "cell_type": "code",
   "execution_count": 4,
   "metadata": {},
   "outputs": [
    {
     "name": "stdout",
     "output_type": "stream",
     "text": [
      "在这里输入一个字符串:你好\n"
     ]
    }
   ],
   "source": [
    "b = input(\"在这里输入一个字符串:\")"
   ]
  },
  {
   "cell_type": "code",
   "execution_count": 7,
   "metadata": {},
   "outputs": [
    {
     "data": {
      "text/plain": [
       "1"
      ]
     },
     "execution_count": 7,
     "metadata": {},
     "output_type": "execute_result"
    }
   ],
   "source": [
    "# 输出: 默认最后一行作为输出行, 如果是可输出代码, 则会生成out , 中空号中的数字代表 运行次序, 如果是* 代表正在运行\n",
    "a = 1\n",
    "a"
   ]
  },
  {
   "cell_type": "markdown",
   "metadata": {},
   "source": [
    "### 让用户输入一个值, 用户输入一个字符串, 并存放到一个变量里面\n",
    "\n",
    "注意你输入的任何东西都会被当做字符串,就算你输入一个数字"
   ]
  },
  {
   "cell_type": "code",
   "execution_count": 27,
   "metadata": {},
   "outputs": [
    {
     "name": "stdout",
     "output_type": "stream",
     "text": [
      "在这里输入欢迎词河南欢迎你\n"
     ]
    },
    {
     "data": {
      "text/plain": [
       "'河南欢迎你杨悦'"
      ]
     },
     "execution_count": 27,
     "metadata": {},
     "output_type": "execute_result"
    }
   ],
   "source": [
    "input('在这里输入欢迎词')+\"杨悦\""
   ]
  },
  {
   "cell_type": "code",
   "execution_count": null,
   "metadata": {
    "collapsed": true
   },
   "outputs": [],
   "source": []
  },
  {
   "cell_type": "markdown",
   "metadata": {},
   "source": [
    "### 练习题\n",
    "\n",
    "输入a,b,c,d 4个整数，计算a+b-c*d的结果"
   ]
  },
  {
   "cell_type": "code",
   "execution_count": null,
   "metadata": {},
   "outputs": [],
   "source": []
  },
  {
   "cell_type": "code",
   "execution_count": null,
   "metadata": {},
   "outputs": [],
   "source": []
  },
  {
   "cell_type": "markdown",
   "metadata": {},
   "source": [
    "# 变量"
   ]
  },
  {
   "cell_type": "markdown",
   "metadata": {},
   "source": [
    "1. python是动态数据类型\n",
    "2. python中的变量不需要声明, 直接赋值就可以使用\n",
    "3. 变量在使用之前必须进行赋值\n",
    "4. Python会根据你赋给的值自动判断变量的数据类型\n",
    "      - 其实变量并没有什么类型\n",
    "      - 变量只是指向了一个内存地址, 内存地址中储存了我们的数据, 这个数据是具有数据类型的\n",
    "      - 变量可以重复赋值, 后面的值会覆盖前边的值\n",
    "      - 改变变量的值, 其实就是改变了变量指向的内存地址!"
   ]
  },
  {
   "cell_type": "markdown",
   "metadata": {},
   "source": [
    "**要理解变量,一定要理解数据在内存中的储存形式,变量只是一个对在内存中储存的某一个东西的指引**\n",
    "\n",
    "变量指引的位置可以变化,这是变量的值就会发生变化\n",
    "\n",
    "当我使用变量,实际上是相当于在使用变量指向的那个内存地址中的值."
   ]
  },
  {
   "cell_type": "markdown",
   "metadata": {},
   "source": [
    "### 变量的赋值"
   ]
  },
  {
   "cell_type": "code",
   "execution_count": 161,
   "metadata": {
    "collapsed": true
   },
   "outputs": [],
   "source": [
    "a = 1\n",
    "a = \"你好\"\n",
    "a = False"
   ]
  },
  {
   "cell_type": "code",
   "execution_count": 163,
   "metadata": {
    "collapsed": true
   },
   "outputs": [],
   "source": [
    "b = 1"
   ]
  },
  {
   "cell_type": "code",
   "execution_count": 164,
   "metadata": {
    "collapsed": true
   },
   "outputs": [],
   "source": [
    "c  = a + b"
   ]
  },
  {
   "cell_type": "code",
   "execution_count": 165,
   "metadata": {},
   "outputs": [
    {
     "data": {
      "text/plain": [
       "1"
      ]
     },
     "execution_count": 165,
     "metadata": {},
     "output_type": "execute_result"
    }
   ],
   "source": [
    "c"
   ]
  },
  {
   "cell_type": "code",
   "execution_count": 12,
   "metadata": {
    "collapsed": true
   },
   "outputs": [],
   "source": [
    "风讲过 = 1"
   ]
  },
  {
   "cell_type": "code",
   "execution_count": 17,
   "metadata": {},
   "outputs": [
    {
     "ename": "NameError",
     "evalue": "name 'hello' is not defined",
     "output_type": "error",
     "traceback": [
      "\u001b[1;31m---------------------------------------------------------------------------\u001b[0m",
      "\u001b[1;31mNameError\u001b[0m                                 Traceback (most recent call last)",
      "\u001b[1;32m<ipython-input-17-96bdb27a74eb>\u001b[0m in \u001b[0;36m<module>\u001b[1;34m()\u001b[0m\n\u001b[1;32m----> 1\u001b[1;33m \u001b[0mhello\u001b[0m\u001b[1;33m.\u001b[0m\u001b[0mmike_go\u001b[0m \u001b[1;33m=\u001b[0m \u001b[1;34m'nihao'\u001b[0m\u001b[1;33m\u001b[0m\u001b[0m\n\u001b[0m",
      "\u001b[1;31mNameError\u001b[0m: name 'hello' is not defined"
     ]
    }
   ],
   "source": []
  },
  {
   "cell_type": "code",
   "execution_count": 16,
   "metadata": {},
   "outputs": [
    {
     "data": {
      "text/plain": [
       "'nihao'"
      ]
     },
     "execution_count": 16,
     "metadata": {},
     "output_type": "execute_result"
    }
   ],
   "source": []
  },
  {
   "cell_type": "code",
   "execution_count": null,
   "metadata": {
    "collapsed": true
   },
   "outputs": [],
   "source": []
  },
  {
   "cell_type": "markdown",
   "metadata": {},
   "source": [
    "### 同时为多个变量赋值"
   ]
  },
  {
   "cell_type": "code",
   "execution_count": 23,
   "metadata": {
    "collapsed": true
   },
   "outputs": [],
   "source": [
    "a = b = c = \"可以\"   # 这种方法可以的, 不十分推荐"
   ]
  },
  {
   "cell_type": "code",
   "execution_count": 19,
   "metadata": {
    "collapsed": true
   },
   "outputs": [],
   "source": [
    "e , f, g =\"当我\", \"离开\", 5"
   ]
  },
  {
   "cell_type": "code",
   "execution_count": 22,
   "metadata": {},
   "outputs": [
    {
     "data": {
      "text/plain": [
       "5"
      ]
     },
     "execution_count": 22,
     "metadata": {},
     "output_type": "execute_result"
    }
   ],
   "source": [
    "g"
   ]
  },
  {
   "cell_type": "code",
   "execution_count": 11,
   "metadata": {},
   "outputs": [
    {
     "data": {
      "text/plain": [
       "1"
      ]
     },
     "execution_count": 11,
     "metadata": {},
     "output_type": "execute_result"
    }
   ],
   "source": [
    "# 交换两个变量的值\n",
    "a = 1\n",
    "b = 2\n",
    "a,b = b,a\n",
    "b"
   ]
  },
  {
   "cell_type": "markdown",
   "metadata": {},
   "source": [
    "### 变量在内存中存在的方式"
   ]
  },
  {
   "cell_type": "code",
   "execution_count": 25,
   "metadata": {},
   "outputs": [
    {
     "data": {
      "text/plain": [
       "'ABC'"
      ]
     },
     "execution_count": 25,
     "metadata": {},
     "output_type": "execute_result"
    }
   ],
   "source": [
    "a = 'ABC'\n",
    "b = a\n",
    "a = 'test'\n",
    "b"
   ]
  },
  {
   "cell_type": "code",
   "execution_count": null,
   "metadata": {
    "collapsed": true
   },
   "outputs": [],
   "source": []
  },
  {
   "cell_type": "code",
   "execution_count": null,
   "metadata": {
    "collapsed": true
   },
   "outputs": [],
   "source": []
  },
  {
   "cell_type": "markdown",
   "metadata": {
    "collapsed": true
   },
   "source": [
    "### 变量的交换"
   ]
  },
  {
   "cell_type": "code",
   "execution_count": 8,
   "metadata": {
    "collapsed": true
   },
   "outputs": [],
   "source": [
    "# 通常的交换方法\n",
    "a = 1\n",
    "b = 2"
   ]
  },
  {
   "cell_type": "code",
   "execution_count": 9,
   "metadata": {
    "collapsed": true
   },
   "outputs": [],
   "source": [
    "temp = b\n",
    "b = a\n",
    "a = temp"
   ]
  },
  {
   "cell_type": "code",
   "execution_count": 10,
   "metadata": {},
   "outputs": [
    {
     "data": {
      "text/plain": [
       "2"
      ]
     },
     "execution_count": 10,
     "metadata": {},
     "output_type": "execute_result"
    }
   ],
   "source": [
    "a"
   ]
  },
  {
   "cell_type": "code",
   "execution_count": 11,
   "metadata": {},
   "outputs": [
    {
     "data": {
      "text/plain": [
       "1"
      ]
     },
     "execution_count": 11,
     "metadata": {},
     "output_type": "execute_result"
    }
   ],
   "source": [
    "b"
   ]
  },
  {
   "cell_type": "code",
   "execution_count": 12,
   "metadata": {},
   "outputs": [
    {
     "name": "stdout",
     "output_type": "stream",
     "text": [
      "2 1\n"
     ]
    }
   ],
   "source": [
    "a = 1\n",
    "b = 2\n",
    "# python中也可以这样操作\n",
    "a, b = b, a\n",
    "print(a, b)"
   ]
  },
  {
   "cell_type": "code",
   "execution_count": 17,
   "metadata": {},
   "outputs": [
    {
     "data": {
      "text/plain": [
       "range(0, 6)"
      ]
     },
     "execution_count": 17,
     "metadata": {},
     "output_type": "execute_result"
    }
   ],
   "source": [
    "range(6)"
   ]
  },
  {
   "cell_type": "code",
   "execution_count": 18,
   "metadata": {
    "collapsed": true
   },
   "outputs": [],
   "source": []
  }
 ],
 "metadata": {
  "kernelspec": {
   "display_name": "Python 3",
   "language": "python",
   "name": "python3"
  },
  "language_info": {
   "codemirror_mode": {
    "name": "ipython",
    "version": 3
   },
   "file_extension": ".py",
   "mimetype": "text/x-python",
   "name": "python",
   "nbconvert_exporter": "python",
   "pygments_lexer": "ipython3",
   "version": "3.6.5"
  },
  "toc": {
   "base_numbering": 1,
   "nav_menu": {
    "height": "398px",
    "width": "291px"
   },
   "number_sections": true,
   "sideBar": true,
   "skip_h1_title": false,
   "title_cell": "Table of Contents",
   "title_sidebar": "Contents",
   "toc_cell": true,
   "toc_position": {
    "height": "calc(100% - 180px)",
    "left": "10px",
    "top": "150px",
    "width": "282px"
   },
   "toc_section_display": true,
   "toc_window_display": true
  }
 },
 "nbformat": 4,
 "nbformat_minor": 2
}
